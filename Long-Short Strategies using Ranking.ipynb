{
 "cells": [
  {
   "cell_type": "markdown",
   "metadata": {},
   "source": [
    "# Long-Short Equity Strategies\n"
   ]
  },
  {
   "cell_type": "markdown",
   "metadata": {},
   "source": [
    "We've covered some ways to generate trading signals in the previous notebooks. We'll discuss a way to convert those signals into a trading strategy in this notebook.\n",
    "\n",
    "Long-short equity strategy is both long and short in the equity market. The strategy rank all stocks in the market using some model. The strategy then goes long (buys) the top $n$ equities of the ranking, and goes short on (sells) the bottom $n$ while maintaining equal dollar volume between the long and short positions. \n",
    "\n",
    "This has the advantage of being statistically robust, as by ranking stocks and entering hundreds or thousands of positions, you are making many bets on your ranking model rather than just a few risky bets. You are also betting purely on the quality of your ranking scheme, as the equal dollar volume long and short positions ensure that the strategy will remain market neutral (immune to market movements)."
   ]
  },
  {
   "cell_type": "markdown",
   "metadata": {
    "collapsed": true
   },
   "source": [
    "## Ranking Scheme\n",
    "\n",
    "A ranking scheme is any model that can assign each stocks a number, where higher is better or worse. Examples could be value factors, technical indicators, pricing models, or a combination of all of the above. For example, you could use the momentum indicators or z score discussed in a previous notebook to give a ranking to stocks . Another example could be the following\n",
    "\n",
    "1. Score stocks based on 0.5 x the PE Ratio of that stock + 0.5 x the 30 day price momentum\n",
    "2. Rank stocks based on that score\n",
    "\n",
    "Ranking schemes are the secret sauce of any long-short equity strategy, so developing them is nontrivial."
   ]
  },
  {
   "cell_type": "markdown",
   "metadata": {},
   "source": [
    "## Making a Bet on the Ranking Scheme"
   ]
  },
  {
   "cell_type": "markdown",
   "metadata": {},
   "source": [
    "Once we have determined a ranking scheme, we would like to be able to profit from it. We do this by investing an equal amount of money long into the top of the ranking, and short into the bottom. This ensures that the strategy will make money proportionally to the quality of the ranking only, and will be market neutral."
   ]
  },
  {
   "cell_type": "markdown",
   "metadata": {},
   "source": [
    "### Long and Short Baskets\n",
    "Let's say you are ranking $m$ equities, have $d$ dollars to invest, and your total target number of positions to hold is $2n$\n",
    "* For each equity in spots $1, \\dots, n$ in the ranking, sell $\\frac{1}{2n} * d$ dollars of that equity\n",
    "* For each equity in spots $m - n, \\dots, m$ in the ranking, buy $\\frac{1}{2n} * d$ dollars of that equity. \n",
    "**Note: Friction Because of Prices**\n",
    "Because equity prices will not always divide $\\frac{1}{2n} * d$ evenly, and equities must be bought in integer amounts, there will be some imprecision and the algorithm should get as close as it can to this number. Most algorithms will have access to some leverage during execution, so it is fine to buy slightly more than $\\frac{1}{2n} * d$ dollars per equity. This does, however, cause some friction at low capital amounts. For a strategy running $d = 100000$, and $n = 500$, we see that \n",
    "$$\\frac{1}{2n} * d = \\frac{1}{1000} * 100000 = 100$$\n",
    "This will cause big problems for expensive equities, and cause the algorithm to be overlevered. This is alleviated by trading fewer equities or increasing the capital, $d$."
   ]
  },
  {
   "cell_type": "markdown",
   "metadata": {},
   "source": [
    "### Returns Come From The Ranking Spread\n",
    "\n",
    "The returns of a long-short equity strategy are dependent on how well the ranking spreads out the high and low returns. \n",
    "First let's start with a hypothetical example."
   ]
  },
  {
   "cell_type": "markdown",
   "metadata": {},
   "source": [
    "### Hypothetical Example\n",
    "We generate random equite names and a random factor on which to rank them. We also assume our future returns are dependent on these factor values."
   ]
  },
  {
   "cell_type": "code",
   "execution_count": 40,
   "metadata": {
    "collapsed": false
   },
   "outputs": [],
   "source": [
    "import numpy as np\n",
    "import statsmodels.api as sm\n",
    "import scipy.stats as stats\n",
    "import scipy.spatial.distance as distance\n",
    "import scipy\n",
    "from statsmodels import regression\n",
    "import matplotlib.pyplot as plt\n",
    "import seaborn as sns\n",
    "import pandas as pd\n",
    "import auquanToolbox.dataloader as dl"
   ]
  },
  {
   "cell_type": "code",
   "execution_count": 15,
   "metadata": {
    "collapsed": false
   },
   "outputs": [
    {
     "data": {
      "text/html": [
       "<div>\n",
       "<table border=\"1\" class=\"dataframe\">\n",
       "  <thead>\n",
       "    <tr style=\"text-align: right;\">\n",
       "      <th></th>\n",
       "      <th>Factor Value</th>\n",
       "      <th>Returns</th>\n",
       "    </tr>\n",
       "  </thead>\n",
       "  <tbody>\n",
       "    <tr>\n",
       "      <th>Equity 0</th>\n",
       "      <td>-0.088250</td>\n",
       "      <td>2.161104</td>\n",
       "    </tr>\n",
       "    <tr>\n",
       "      <th>Equity 1</th>\n",
       "      <td>-0.659453</td>\n",
       "      <td>-1.856399</td>\n",
       "    </tr>\n",
       "    <tr>\n",
       "      <th>Equity 2</th>\n",
       "      <td>1.018263</td>\n",
       "      <td>1.379308</td>\n",
       "    </tr>\n",
       "    <tr>\n",
       "      <th>Equity 3</th>\n",
       "      <td>1.195174</td>\n",
       "      <td>2.351086</td>\n",
       "    </tr>\n",
       "    <tr>\n",
       "      <th>Equity 4</th>\n",
       "      <td>-1.361613</td>\n",
       "      <td>-0.897433</td>\n",
       "    </tr>\n",
       "    <tr>\n",
       "      <th>Equity 5</th>\n",
       "      <td>-1.328223</td>\n",
       "      <td>-0.951215</td>\n",
       "    </tr>\n",
       "    <tr>\n",
       "      <th>Equity 6</th>\n",
       "      <td>0.882669</td>\n",
       "      <td>0.630814</td>\n",
       "    </tr>\n",
       "    <tr>\n",
       "      <th>Equity 7</th>\n",
       "      <td>1.597696</td>\n",
       "      <td>3.242234</td>\n",
       "    </tr>\n",
       "    <tr>\n",
       "      <th>Equity 8</th>\n",
       "      <td>2.275312</td>\n",
       "      <td>1.768836</td>\n",
       "    </tr>\n",
       "    <tr>\n",
       "      <th>Equity 9</th>\n",
       "      <td>1.180364</td>\n",
       "      <td>3.320480</td>\n",
       "    </tr>\n",
       "  </tbody>\n",
       "</table>\n",
       "</div>"
      ],
      "text/plain": [
       "          Factor Value   Returns\n",
       "Equity 0     -0.088250  2.161104\n",
       "Equity 1     -0.659453 -1.856399\n",
       "Equity 2      1.018263  1.379308\n",
       "Equity 3      1.195174  2.351086\n",
       "Equity 4     -1.361613 -0.897433\n",
       "Equity 5     -1.328223 -0.951215\n",
       "Equity 6      0.882669  0.630814\n",
       "Equity 7      1.597696  3.242234\n",
       "Equity 8      2.275312  1.768836\n",
       "Equity 9      1.180364  3.320480"
      ]
     },
     "execution_count": 15,
     "metadata": {},
     "output_type": "execute_result"
    }
   ],
   "source": [
    "# We'll generate a random factor\n",
    "current_factor_values = np.random.normal(0, 1, 10000)\n",
    "equity_names = ['Equity ' + str(x) for x in range(10000)]\n",
    "\n",
    "# Now let's say our future returns are dependent on our factor values\n",
    "future_returns = current_factor_values + np.random.normal(0, 1, 10000)\n",
    "\n",
    "# Put both the factor values and returns into one dataframe\n",
    "data = pd.DataFrame(index = equity_names, columns=['Factor Value','Returns'])\n",
    "data['Factor Value'] = current_factor_values\n",
    "data['Returns'] = future_returns\n",
    "# Take a look\n",
    "data.head(10)"
   ]
  },
  {
   "cell_type": "markdown",
   "metadata": {},
   "source": [
    "Now that we have factor values and returns, we can see what would happen if we ranked our equities based on factor values, and then entered the long and short positions."
   ]
  },
  {
   "cell_type": "code",
   "execution_count": 16,
   "metadata": {
    "collapsed": false
   },
   "outputs": [
    {
     "name": "stderr",
     "output_type": "stream",
     "text": [
      "C:\\Users\\Chandini\\Miniconda3\\envs\\auquan\\lib\\site-packages\\ipykernel\\__main__.py:2: FutureWarning: sort(columns=....) is deprecated, use sort_values(by=.....)\n",
      "  from ipykernel import kernelapp as app\n"
     ]
    },
    {
     "data": {
      "image/png": "[encoded data removed]",
      "text/plain": [
       "<matplotlib.figure.Figure at 0x917cdd8>"
      ]
     },
     "metadata": {},
     "output_type": "display_data"
    }
   ],
   "source": [
    "# Rank the equities\n",
    "ranked_data = data.sort('Factor Value')\n",
    "\n",
    "# Compute the returns of each basket\n",
    "# Baskets of size 500, so we create an empty array of shape (10000/500)\n",
    "number_of_baskets = 10000/500\n",
    "basket_returns = np.zeros(number_of_baskets)\n",
    "\n",
    "for i in range(number_of_baskets):\n",
    "    start = i * 500\n",
    "    end = i * 500 + 500 \n",
    "    basket_returns[i] = ranked_data[start:end]['Returns'].mean()\n",
    "\n",
    "# Plot the returns of each basket\n",
    "plt.figure(figsize=(15,7))\n",
    "plt.bar(range(number_of_baskets), basket_returns)\n",
    "plt.ylabel('Returns')\n",
    "plt.xlabel('Basket')\n",
    "plt.legend(['Returns of Each Basket'])\n",
    "plt.show()"
   ]
  },
  {
   "cell_type": "markdown",
   "metadata": {},
   "source": [
    "Let's compute the returns if we go long the top basket and short the bottom basket."
   ]
  },
  {
   "cell_type": "code",
   "execution_count": 17,
   "metadata": {
    "collapsed": false
   },
   "outputs": [
    {
     "data": {
      "text/plain": [
       "4.0594481454873801"
      ]
     },
     "execution_count": 17,
     "metadata": {},
     "output_type": "execute_result"
    }
   ],
   "source": [
    "basket_returns[number_of_baskets-1] - basket_returns[0]"
   ]
  },
  {
   "cell_type": "markdown",
   "metadata": {},
   "source": [
    "**The nice thing about making money based on the spread of the ranking is that it is unaffected by what the market does.**"
   ]
  },
  {
   "cell_type": "markdown",
   "metadata": {},
   "source": [
    "Let's now consider a real world example. We will use price based indicators that we have learned so far for ranking. \n"
   ]
  },
  {
   "cell_type": "code",
   "execution_count": 110,
   "metadata": {
    "collapsed": false
   },
   "outputs": [
    {
     "name": "stdout",
     "output_type": "stream",
     "text": [
      "Reading CMCSA\n",
      "Reading VZ\n",
      "Reading T\n",
      "Reading EA\n",
      "Reading CVS\n",
      "Reading KR\n",
      "Reading PG\n",
      "Reading PEP\n",
      "Reading KO\n",
      "Reading WMT\n",
      "Reading LOW\n",
      "Reading DHI\n",
      "Reading MCD\n",
      "Reading DIS\n",
      "Reading HD\n",
      "Reading BBY\n",
      "Reading PHM\n",
      "Reading TGT\n",
      "Reading M\n",
      "Reading GPS\n",
      "Reading SPLS\n",
      "Reading FOXA\n",
      "Reading TWX\n",
      "Reading JCP\n",
      "Reading EOG\n",
      "Reading SWN\n",
      "Reading VLO\n",
      "Reading SLB\n",
      "Reading HAL\n",
      "Reading XOM\n",
      "Reading COP\n",
      "Reading WMB\n",
      "Reading CHK\n",
      "Reading NBR\n",
      "Reading GS\n",
      "Reading USB\n",
      "Reading WFC\n",
      "Reading AXP\n",
      "Reading MET\n",
      "Reading JPM\n",
      "Reading HST\n",
      "Reading BK\n",
      "Reading HBAN\n",
      "Reading MS\n",
      "Reading KEY\n",
      "Reading RF\n",
      "Reading FITB\n",
      "Reading C\n",
      "Reading JNJ\n",
      "Reading AMGN\n",
      "Reading ABT\n",
      "Reading LLY\n",
      "Reading BMY\n",
      "Reading MRK\n",
      "Reading UNP\n",
      "Reading CAT\n",
      "Reading LUV\n",
      "Reading NEM\n",
      "Reading DOW\n",
      "Reading FCX\n",
      "Reading DD\n",
      "Reading X\n",
      "Reading AKS\n",
      "Reading ARNC\n",
      "Reading NVDA\n",
      "Reading ADBE\n",
      "Reading SYMC\n",
      "Reading YHOO\n",
      "Reading EBAY\n",
      "Reading BSX\n",
      "Reading QCOM\n",
      "Reading TXN\n",
      "Reading AMAT\n",
      "Reading GLW\n",
      "Reading HPQ\n",
      "Reading JNPR\n",
      "Reading AMD\n"
     ]
    }
   ],
   "source": [
    "# Fetch prices data for 80 stocks from different sectors and plot prices\n",
    "start = '2012-01-01'\n",
    "end = '2016-12-31'\n",
    "assets = ['CMCSA','VZ','T','EA','CVS','KR','PG','PEP','KO','WMT','LOW','DHI','MCD','DIS','HD','BBY','PHM','TGT','M','GPS',\n",
    "          'SPLS','FOXA','TWX','JCP','EOG','SWN','VLO','SLB','HAL','XOM','COP','WMB','CHK','NBR','GS','USB','WFC','AXP','MET',\n",
    "          'JPM','HST','BK','HBAN','MS','KEY','RF','FITB','C','JNJ','AMGN','ABT','LLY','BMY','MRK','UNP','CAT','LUV','NEM','DOW',\n",
    "          'FCX','DD','X','AKS','ARNC','NVDA','ADBE','SYMC','YHOO','EBAY','BSX','QCOM','TXN','AMAT','GLW','HPQ','JNPR','AMD',]\n",
    "data = dl.load_data_nologs('nasdaq', assets, start, end)\n",
    "prices = data['ADJ CLOSE']\n",
    "\n",
    "#Calculate Moving Average Crossover Ribbons for each\n",
    "rolling_means = {}\n",
    "for a in assets:\n",
    "    rolling_means[a]= pd.DataFrame(columns=np.linspace(10, 100, 10))\n",
    "    \n",
    "for i in np.linspace(10, 100, 10):\n",
    "    X = prices.rolling(window=int(i),center=False).mean()\n",
    "    for a in assets:\n",
    "        rolling_means[a][i] = X[a].dropna().resample('M').last() # use last instance in month to aggregate\n",
    "\n",
    "#Calculate a score for each security based on the ribbon\n",
    "mscores = pd.DataFrame(index=rolling_means[a].index,columns=assets)\n",
    "for a in assets:\n",
    "    for date in rolling_means[a].index:\n",
    "        mavg_values = rolling_means[a].loc[date]\n",
    "        ranking = stats.rankdata(mavg_values.values)\n",
    "        d = distance.hamming(ranking, range(1, 11))\n",
    "        mscores[a].loc[date] = d\n",
    "\n",
    "# Calculate Monthly returns\n",
    "returns = prices.resample('M').last()\n",
    "monthly_returns = returns/returns.shift(-1) -1"
   ]
  },
  {
   "cell_type": "markdown",
   "metadata": {},
   "source": [
    "## Looking at Correlations Over Time\n",
    "\n",
    "Now that we have the data, let's do something with it. Our first analysis will be to measure the monthly Spearman rank correlation coefficient between Momentum score and month-forward returns. In other words, how predictive of 30-day returns is ranking your universe by momentum."
   ]
  },
  {
   "cell_type": "code",
   "execution_count": 111,
   "metadata": {
    "collapsed": false
   },
   "outputs": [
    {
     "data": {
      "image/png": "[encoded data removed]",
      "text/plain": [
       "<matplotlib.figure.Figure at 0x14cd9e10>"
      ]
     },
     "metadata": {},
     "output_type": "display_data"
    }
   ],
   "source": [
    "l = mscores.index.size\n",
    "scores = np.zeros(l)\n",
    "pvalues = np.zeros(l)\n",
    "for i in range(l):\n",
    "    score, pvalue = stats.spearmanr(mscores.iloc[i], monthly_returns.iloc[i])\n",
    "    pvalues[i] = pvalue\n",
    "    scores[i] = score\n",
    "    \n",
    "plt.figure(figsize=(15,7))\n",
    "plt.bar(range(1,l+1),scores)\n",
    "plt.hlines(np.mean(scores), 1,l+1, colors='r', linestyles='dashed')\n",
    "plt.xlabel('Month')\n",
    "plt.xlim((1, l+1))\n",
    "plt.legend(['Mean Correlation over All Months', 'Monthly Rank Correlation'])\n",
    "plt.ylabel('Rank correlation between Momentum Scores and 30-day forward returns');\n",
    "plt.show()"
   ]
  },
  {
   "cell_type": "markdown",
   "metadata": {},
   "source": [
    "We can see that the average correlation is negative, but varies a lot from month to month. It's important to note that this monthly and between 2012 and 2016"
   ]
  },
  {
   "cell_type": "markdown",
   "metadata": {},
   "source": [
    "## Basket Returns\n",
    "\n",
    "The next step is to compute the returns of baskets taken out of our ranking. If we rank all equities and then split them into $n$ groups, what would the mean return be of each group? We can answer this question in the following way. The first step is to create a function that will give us the mean return in each basket in a given the month and a ranking factor."
   ]
  },
  {
   "cell_type": "code",
   "execution_count": 112,
   "metadata": {
    "collapsed": true
   },
   "outputs": [],
   "source": [
    "def compute_basket_returns(factor_data, forward_returns, number_of_baskets, month):\n",
    "\n",
    "    data = pd.concat([factor_data.iloc[month-1],forward_returns.iloc[month-1]], axis=1)\n",
    "    # Rank the equities on the factor values\n",
    "    data.columns = ['Factor Value', 'Month Forward Returns']\n",
    "    data.sort('Factor Value', inplace=True)\n",
    "    # How many equities per basket\n",
    "    equities_per_basket = np.floor(len(data.index) / number_of_baskets)\n",
    "\n",
    "    basket_returns = np.zeros(number_of_baskets)\n",
    "\n",
    "    # Compute the returns of each basket\n",
    "    for i in range(number_of_baskets):\n",
    "        start = i * equities_per_basket\n",
    "        if i == number_of_baskets - 1:\n",
    "            # Handle having a few extra in the last basket when our number of equities doesn't divide well\n",
    "            end = len(data.index) - 1\n",
    "        else:\n",
    "            end = i * equities_per_basket + equities_per_basket\n",
    "        # Actually compute the mean returns for each basket\n",
    "        #s = data.index.iloc[start]\n",
    "        #e = data.index.iloc[end]\n",
    "        basket_returns[i] = data.iloc[int(start):int(end)]['Month Forward Returns'].mean()\n",
    "        \n",
    "    return basket_returns\n"
   ]
  },
  {
   "cell_type": "markdown",
   "metadata": {},
   "source": [
    "#### Average Basket Return\n",
    "\n",
    "We first compute this for each month and then average. This should give us a sense of the relationship over a long timeframe."
   ]
  },
  {
   "cell_type": "code",
   "execution_count": 116,
   "metadata": {
    "collapsed": false
   },
   "outputs": [
    {
     "name": "stderr",
     "output_type": "stream",
     "text": [
      "C:\\Users\\Chandini\\Miniconda3\\envs\\auquan\\lib\\site-packages\\ipykernel\\__main__.py:6: FutureWarning: sort(columns=....) is deprecated, use sort_values(by=.....)\n"
     ]
    },
    {
     "data": {
      "image/png": "[encoded data removed]",
      "text/plain": [
       "<matplotlib.figure.Figure at 0x9c47470>"
      ]
     },
     "metadata": {},
     "output_type": "display_data"
    }
   ],
   "source": [
    "number_of_baskets = 10\n",
    "mean_basket_returns = np.zeros(number_of_baskets)\n",
    "for m in range(1, l+1):\n",
    "    basket_returns = compute_basket_returns(mscores, monthly_returns, number_of_baskets, m)\n",
    "    mean_basket_returns += basket_returns\n",
    "\n",
    "mean_basket_returns /= 24    \n",
    "\n",
    "# Plot the returns of each basket\n",
    "plt.figure(figsize=(15,7))\n",
    "plt.bar(range(number_of_baskets), mean_basket_returns)\n",
    "plt.ylabel('Returns')\n",
    "plt.xlabel('Basket')\n",
    "plt.legend(['Returns of Each Basket'])\n",
    "plt.show()"
   ]
  },
  {
   "cell_type": "markdown",
   "metadata": {},
   "source": [
    "### Spread Consistency\n",
    "\n",
    "Of course, that's just the average relationship. To get a sense of how consistent this is, and whether or not we would want to trade on it, we should look at it over time. Here we'll look at the monthly spreads for the first 18 months. We can see a lot of variation, and further analysis should be done to determine whether this momentum score is tradeable."
   ]
  },
  {
   "cell_type": "code",
   "execution_count": 123,
   "metadata": {
    "collapsed": false
   },
   "outputs": [
    {
     "name": "stderr",
     "output_type": "stream",
     "text": [
      "C:\\Users\\Chandini\\Miniconda3\\envs\\auquan\\lib\\site-packages\\ipykernel\\__main__.py:6: FutureWarning: sort(columns=....) is deprecated, use sort_values(by=.....)\n"
     ]
    },
    {
     "data": {
      "image/png": "[encoded data removed]",
      "text/plain": [
       "<matplotlib.figure.Figure at 0x1353b048>"
      ]
     },
     "metadata": {},
     "output_type": "display_data"
    }
   ],
   "source": [
    "\n",
    "f, axarr = plt.subplots(3, 6,figsize=(18, 10))\n",
    "for month in range(1, 19):\n",
    "    basket_returns = compute_basket_returns(mscores, monthly_returns, number_of_baskets, month)\n",
    "    r = int(np.floor((month-1) / 6))\n",
    "    c = (month-1) % 6\n",
    "    axarr[r, c].bar(range(number_of_baskets), basket_returns)\n",
    "    axarr[r, c].xaxis.set_visible(False) # Hide the axis lables so the plots aren't super messy\n",
    "    axarr[r, c].set_title('Month ' + str(month))\n",
    "plt.show()"
   ]
  },
  {
   "cell_type": "markdown",
   "metadata": {},
   "source": [
    "Finally, lets look at the returns if we had bought the first basket and sold the last basket every month (assuming equal capital allocation to each security)"
   ]
  },
  {
   "cell_type": "code",
   "execution_count": 133,
   "metadata": {
    "collapsed": false
   },
   "outputs": [
    {
     "name": "stderr",
     "output_type": "stream",
     "text": [
      "C:\\Users\\Chandini\\Miniconda3\\envs\\auquan\\lib\\site-packages\\ipykernel\\__main__.py:6: FutureWarning: sort(columns=....) is deprecated, use sort_values(by=.....)\n"
     ]
    },
    {
     "name": "stdout",
     "output_type": "stream",
     "text": [
      "Total Returns: 5.71%\n"
     ]
    }
   ],
   "source": [
    "number_of_baskets = 10\n",
    "strategy_returns = np.zeros(l)\n",
    "for m in range(1, l+1):\n",
    "    basket_returns = compute_basket_returns(mscores, monthly_returns, number_of_baskets, m)\n",
    "    strategy_returns[m-1] = basket_returns[0]-basket_returns[ number_of_baskets-1]\n",
    "\n",
    "print('Total Returns: %.2f%%'%strategy_returns.sum())"
   ]
  },
  {
   "cell_type": "markdown",
   "metadata": {},
   "source": [
    "## Long-Short is a Modular Strategy\n",
    "\n",
    "To execute a long-short equity, you effectively only have to determine the ranking scheme. Everything after that is mechanical. Once you have one long-short equity strategy, you can swap in different ranking schemes and leave everything else in place. It's a very convenient way to quickly iterate over ideas you have without having to worry about tweaking code every time.\n",
    "\n",
    "The ranking schemes can come from pretty much any model as well. It doesn't have to be a value based factor model, it could be a machine learning technique that predicted returns one-month ahead and ranked based on that.\n"
   ]
  },
  {
   "cell_type": "markdown",
   "metadata": {},
   "source": [
    "## Choice and Evaluation of a Ranking Scheme\n",
    "\n",
    "The ranking scheme is where a long-short equity strategy gets its edge, and is the most crucial component. Choosing a good ranking scheme is the entire trick, and there is no easy answer. A good starting point is to pick existing known techniques, and see if you can modify them slightly to get increased returns. We'll discuss a few starting points here.\n",
    "\n",
    "* ### Clone and Tweak\n",
    "Choose one that is commonly discussed and see if you can modify it slightly to gain back an edge. Often times factors that are public will have no signal left as they have been completely arbitraged out of the market. However, sometimes they lead you in the right direction of where to go.\n",
    "\n",
    "* ### Pricing Models\n",
    "Any model that predicts future returns can be a factor. The future return predicted is now that factor, and can be used to rank your universe. You can take any complicated pricing model and transform it into a ranking.\n",
    "\n",
    "* ### Price Based Factors (Technical Indicators)\n",
    "Price based factors take information about the historical price of each equity and use it to generate the factor value. Examples could be 30-day momentum, or volatility measures.\n",
    "#### Reversion vs. Momentum\n",
    "It's important to note that some factors bet that prices, once moving in a direction, will continue to do so. Some factors bet the opposite. Both are valid models on different time horizons and assets, and it's important to investigate whether the underlying behavior is momentum or reversion based.\n",
    "\n",
    "* ### Fundamental Factors (Value Based)\n",
    "This is using combinations of fundamental values as we discussed today. Fundamental values contain information that is tied to real world facts about a company, so in many ways can be more robust than prices.\n",
    "\n",
    "* ### The Arms Race\n",
    "Ultimately, developing predictive factors is an arms race in which you are trying to stay one step ahead. Factors get arbitraged out of markets and have a lifespan, so it's important that you are constantly doing work to determine how much decay your factors are experiencing, and what new factors might be used to take their place.\n"
   ]
  },
  {
   "cell_type": "markdown",
   "metadata": {},
   "source": [
    "## Additional Considerations\n",
    "\n",
    "### Rebalancing Frequency\n",
    "\n",
    "Every ranking system will be predictive of returns over a slightly different timeframe. A price-based mean reversion may be predictive over a few days, while a value-based factor model may be predictive over many months. It is important to determine the timeframe over which your model should be predictive, and statistically verify that before executing your strategy. You do want to overfit by trying to optimize the relabancing frequency, you will inevitably find one that is randomly better than others, but not necessary because of anything in your model.\n",
    "\n",
    "Once you have determined the timeframe on which your ranking scheme is predictive, try to rebalance at about that frequency so you're taking full advantage of your models.\n",
    "\n",
    "\n",
    "### Capital Capacity and Transaction Costs\n",
    "\n",
    "Every strategy has a minimum and maximum amount of capital it can trade before it stops being profitable.\n",
    "\n",
    "\n",
    "Trading many equities will result in high transaction costs. Say that you want to purchase $1000$ equities, you will incur thousands of dollars of costs per rebalance. Your capital base must be high enough that the transaction costs are a small percentage of the returns being generated by your strategy. Say that you are running $100,000$ dollars and making $1\\%$ per month, then the $1000$ dollars of transaction fees per month would take up your all of returns. You would need to be running the strategy on millions of dollars for it to be profitable over $1000$ equities.\n",
    "\n",
    "The minimum capacity is quite high as such, and dependent largely on the number of equities traded. However, the maximum capacity is also incredibly high, with long-short equity strategies capable of trading hundreds of millions of dollars without losing their edge. This is true because the strategy rebalances relatively infrequently, and the total dollar volume is divided by the number of equities traded. So if you turn over your entire portfolio of $100,000,000$ every month while running 1000 equities, you are only running $100,000$ dollar-volume per month through each equity, which isn't enough to be a significant market share for most securities."
   ]
  }
 ],
 "metadata": {
  "kernelspec": {
   "display_name": "Python 2",
   "language": "python",
   "name": "python2"
  },
  "language_info": {
   "codemirror_mode": {
    "name": "ipython",
    "version": 2
   },
   "file_extension": ".py",
   "mimetype": "text/x-python",
   "name": "python",
   "nbconvert_exporter": "python",
   "pygments_lexer": "ipython2",
   "version": "2.7.13"
  }
 },
 "nbformat": 4,
 "nbformat_minor": 0
}
