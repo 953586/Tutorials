{
 "cells": [
  {
   "cell_type": "markdown",
   "metadata": {},
   "source": [
    "\n",
    "### Expected Value and Arithmetic mean\n",
    "\n",
    "The expected value of a random variable is the probability-weighted average of all possible values.\n",
    "When these probabilities are equal, the expected value is the same as arithmetic mean, defined as the sum of the observations divided by the number of observations:\n",
    "$$\\mu = \\frac{\\sum_{i=1}^N X_i}{N}$$\n",
    "\n",
    "where $X_1, X_2, \\ldots , X_N$ are our observations.\n",
    "\n",
    "For example, if a dice is rolled repeatedly many times, we expect all numbers from 1 - 6 to show up an equal number of times. So the expected value in rolling a six-sided die is 3.5.\n"
   ]
  },
  {
   "cell_type": "code",
   "execution_count": 1,
   "metadata": {
    "collapsed": false
   },
   "outputs": [
    {
     "name": "stdout",
     "output_type": "stream",
     "text": [
      "\n",
      "Mean of x1: 54 / 9 = 6.0\n",
      "Mean of x2: 154 / 10 = 15.4\n"
     ]
    }
   ],
   "source": [
    "from __future__ import print_function\n",
    "from auquanToolbox.dataloader import load_data_nologs\n",
    "import numpy as np\n",
    "import scipy.stats as stats\n",
    "\n",
    "# Let's say the random variables x1 and x2 have the following values\n",
    "x1 = [10,9,8,5,6,7,4,3,2]\n",
    "x2 = x1 + [100]\n",
    "\n",
    "print ('Mean of x1:', sum(x1), '/', len(x1), '=', np.mean(x1))\n",
    "print ('Mean of x2:', sum(x2), '/', len(x2), '=', np.mean(x2))"
   ]
  },
  {
   "cell_type": "markdown",
   "metadata": {},
   "source": [
    "When the probabilities of different observations are not equal, i.e a random variable $X$ can take value $X_1$ with probability $p_1$, $X_2$ with probability $p_2$, and so on, the expected value of X is the same as <i>weighted</i> arithmetic mean.\n",
    "The weighted arithmetic mean is defined as\n",
    "$$\\sum_{i=1}^n p_i X_i $$\n",
    "\n",
    "where $\\sum_{i=1}^n p_i = 1$"
   ]
  },
  {
   "cell_type": "markdown",
   "metadata": {},
   "source": [
    "## Other measures of centrality that are commonly used are:"
   ]
  },
  {
   "cell_type": "markdown",
   "metadata": {
    "collapsed": true
   },
   "source": [
    "### Median\n",
    "\n",
    "Median: Number which appears in the middle of the list when it is sorted in increasing or decreasing order, i.e. the value in $(n+1)/2$ when $n$ is odd and the average of the values in $n/2$ and $(n+2)/2$ positions when $n$ is even. One advantage of using median in describing data compared to the mean is that it is not skewed so much by extremely large or small values\n",
    "\n",
    "The median us the value that splits the data set in half, but not how much smaller or larger the other values are."
   ]
  },
  {
   "cell_type": "code",
   "execution_count": null,
   "metadata": {
    "collapsed": false
   },
   "outputs": [],
   "source": [
    "print('Median of x1:', np.median(x1))\n",
    "print('Median of x2:', np.median(x2))"
   ]
  },
  {
   "cell_type": "markdown",
   "metadata": {},
   "source": [
    "### Mode\n",
    "\n",
    "Mode: most frequently occuring value in a data set. The mode of a probability distribution is the value x at which its probability distribution function takes its maximum value."
   ]
  },
  {
   "cell_type": "code",
   "execution_count": null,
   "metadata": {
    "collapsed": false
   },
   "outputs": [],
   "source": [
    "def mode(l):\n",
    "    # Count the number of times each element appears in the list\n",
    "    counts = {}\n",
    "    for e in l:\n",
    "        if e in counts:\n",
    "            counts[e] += 1\n",
    "        else:\n",
    "            counts[e] = 1\n",
    "            \n",
    "    # Return the elements that appear the most times\n",
    "    maxcount = 0\n",
    "    modes = {}\n",
    "    for key in counts:\n",
    "        if counts[key] > maxcount:\n",
    "            maxcount = counts[key]\n",
    "            modes = {key}\n",
    "        elif counts[key] == maxcount:\n",
    "            modes.add(key)\n",
    "            \n",
    "    if maxcount > 1 or len(l) == 1:\n",
    "        return list(modes)\n",
    "    return 'No mode'\n",
    "    \n",
    "print ('All of the modes of x1:', mode(x1))"
   ]
  },
  {
   "cell_type": "markdown",
   "metadata": {},
   "source": [
    "### Geometric mean\n",
    "\n",
    "It is the central tendency of a set of numbers by using the product of their values (as opposed to the arithmetic mean which uses their sum). The geometric mean is defined as the nth root of the product of n numbers:\n",
    "$$ G = \\sqrt[n]{X_1X_1\\ldots X_n} $$\n",
    "\n",
    "for observations $X_i \\geq 0$. We can also rewrite it as an arithmetic mean using logarithms:\n",
    "$$ \\ln G = \\frac{\\sum_{i=1}^n \\ln X_i}{n} $$\n",
    "\n",
    "The geometric mean is always less than or equal to the arithmetic mean (when working with nonnegative observations), with equality only when all of the observations are the same."
   ]
  },
  {
   "cell_type": "code",
   "execution_count": null,
   "metadata": {
    "collapsed": false
   },
   "outputs": [],
   "source": [
    "# Use scipy's gmean function to compute the geometric mean\n",
    "print ('Geometric mean of x1:', stats.gmean(x1))\n",
    "print ('Geometric mean of x2:', stats.gmean(x2))"
   ]
  },
  {
   "cell_type": "markdown",
   "metadata": {},
   "source": [
    "If we have stocks returns $R_1, \\ldots, R_T$ over different times, we use the geometric mean to calculate average return $R_G$ so that if the rate of return over the whole time period were constant and equal to $R_G$, the final price of the security would be the same as in the case of returns $R_1, \\ldots, R_T$.\n",
    "$$ R_G = \\sqrt[T]{(1 + R_1)\\ldots (1 + R_T)} - 1$$"
   ]
  },
  {
   "cell_type": "markdown",
   "metadata": {},
   "source": [
    "# Harmonic mean\n",
    "\n",
    "The harmonic mean is less commonly used than the other types of means. It is defined as\n",
    "$$ H = \\frac{n}{\\sum_{i=1}^n \\frac{1}{X_i}} $$\n",
    "\n",
    "As with the geometric mean, we can rewrite the harmonic mean to look like an arithmetic mean. The reciprocal of the harmonic mean is the arithmetic mean of the reciprocals of the observations:\n",
    "$$ \\frac{1}{H} = \\frac{\\sum_{i=1}^n \\frac{1}{X_i}}{n} $$\n",
    "\n",
    "The harmonic mean for nonnegative numbers $X_i$ is always at most the geometric mean (which is at most the arithmetic mean), and they are equal only when all of the observations are equal."
   ]
  },
  {
   "cell_type": "code",
   "execution_count": null,
   "metadata": {
    "collapsed": false
   },
   "outputs": [],
   "source": [
    "print ('Harmonic mean of x1:', stats.hmean(x1))\n",
    "print ('Harmonic mean of x2:', stats.hmean(x2))"
   ]
  },
  {
   "cell_type": "markdown",
   "metadata": {},
   "source": [
    "The harmonic mean can be used when the data can be naturally phrased in terms of ratios. "
   ]
  }
 ],
 "metadata": {
  "kernelspec": {
   "display_name": "Python 3",
   "language": "python",
   "name": "python3"
  },
  "language_info": {
   "codemirror_mode": {
    "name": "ipython",
    "version": 3
   },
   "file_extension": ".py",
   "mimetype": "text/x-python",
   "name": "python",
   "nbconvert_exporter": "python",
   "pygments_lexer": "ipython3",
   "version": "3.4.4"
  }
 },
 "nbformat": 4,
 "nbformat_minor": 0
}
